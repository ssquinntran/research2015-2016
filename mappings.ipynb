{
 "cells": [
  {
   "cell_type": "code",
   "execution_count": 2,
   "metadata": {
    "collapsed": false
   },
   "outputs": [
    {
     "name": "stdout",
     "output_type": "stream",
     "text": [
      "height has been deprecated.\n",
      "\n",
      "2016-11-02 15:58\n"
     ]
    }
   ],
   "source": [
    "import string\n",
    "import utils\n",
    "import random\n",
    "import scipy\n",
    "import numpy as np\n",
    "import matplotlib.pyplot as plt\n",
    "import sklearn.metrics as metrics\n",
    "import pickle\n",
    "\n",
    "from scipy import optimize\n",
    "from utils import random_idx\n",
    "from utils import utils\n",
    "from utils import lang_vectors_utils as lvu\n",
    "from utils import verb_mappings as vm\n",
    "%matplotlib inline\n",
    "\n",
    "k = 500\n",
    "N = 10000\n",
    "NUM_CLASSES = 2\n",
    "cluster_size = 3\n",
    "ordered = 1\n",
    "alphabet = string.lowercase + ' '\n",
    "RI_letters = random_idx.generate_letter_id_vectors(N, k, alphabet)\n",
    "\n",
    "def read_examples(filepath):\n",
    "    examples = []\n",
    "    with open(filepath, \"r\") as f:\n",
    "        for line in f:\n",
    "            for word in line.split():\n",
    "                examples.append(word)\n",
    "    return examples\n",
    "\n",
    "edsets = [\"ed.txt\", \"ed10000.txt\", \"ed5000.txt\", \"ed3000.txt\", \"ed1000.txt\"]\n",
    "edlabels = [\"ed.txt\", \"ed10000.txt\", \"ed5000.txt\", \"ed3000.txt\", \"ed1000.txt\"]\n",
    "# oh shit -ed verbs are actually -d and -ed verbs in the same bag of words. i'm keeping them as the same class"
   ]
  },
  {
   "cell_type": "code",
   "execution_count": 3,
   "metadata": {
    "collapsed": false
   },
   "outputs": [
    {
     "name": "stdout",
     "output_type": "stream",
     "text": [
      "[[ 0.  0.  0. ...,  1.  0. -1.]\n",
      " [ 0.  0.  0. ...,  0.  0.  0.]\n",
      " [ 0.  0.  0. ...,  0.  0.  0.]\n",
      " ..., \n",
      " [ 0.  0.  0. ...,  0.  0.  0.]\n",
      " [ 0.  0.  0. ...,  0.  0.  0.]\n",
      " [ 1.  0.  0. ...,  0.  0.  0.]]\n"
     ]
    }
   ],
   "source": [
    "print RI_letters"
   ]
  },
  {
   "cell_type": "code",
   "execution_count": 4,
   "metadata": {
    "collapsed": false
   },
   "outputs": [
    {
     "name": "stdout",
     "output_type": "stream",
     "text": [
      "[[ 1. -1.  1. ..., -1.  1.  1.]\n",
      " [ 1. -1.  1. ...,  1.  1. -1.]\n",
      " [-1.  1.  1. ..., -1.  1.  1.]\n",
      " ..., \n",
      " [ 1.  1.  1. ..., -1. -1.  1.]\n",
      " [-1.  1.  1. ...,  1.  1. -1.]\n",
      " [ 1.  1.  1. ...,  1.  1. -1.]]\n"
     ]
    }
   ],
   "source": [
    "RI_letters = np.random.rand(27, N)\n",
    "RI_letters[RI_letters<.5] = -1\n",
    "RI_letters[RI_letters>.5] = 1\n",
    "\n",
    "RI_letters\n",
    "print RI_letters"
   ]
  },
  {
   "cell_type": "code",
   "execution_count": 5,
   "metadata": {
    "collapsed": false
   },
   "outputs": [],
   "source": [
    "# only working with -ed verbs for now\n",
    "past = read_examples(\"wickle_train/edsets/ed1000.txt\")\n",
    "present = read_examples(\"wickle_train/edlabels/ed1000.txt\")"
   ]
  },
  {
   "cell_type": "code",
   "execution_count": 56,
   "metadata": {
    "collapsed": false
   },
   "outputs": [],
   "source": [
    "def wv(word, alphabet, RI_letters, cluster_size=3, N=1000, ordered=1):\n",
    "    \"\"\"\n",
    "    word vectors encoded as a sum of their trigrams. Thus a word vector is just like a language\n",
    "    vector of yore, with a word of L letters + two spaces yielding L trigrams.\n",
    "    \n",
    "      j u\n",
    "    j u m\n",
    "    u m p\n",
    "    m p \n",
    "\n",
    "    \"\"\"\n",
    "    word = \" \" + word + \" \"\n",
    "    wordv = np.zeros((1,N))\n",
    "    for i in range(len(word)-cluster_size):\n",
    "        ngram = word[i:i+cluster_size]\n",
    "        z = np.ones(N)\n",
    "        for j in ngram:\n",
    "            z = np.multiply(z, RI_letters[alphabet.index(j)])\n",
    "            z = np.roll(z, 1)\n",
    "        wordv += np.array([z])\n",
    "    return wordv\n",
    "\n",
    "\"\"\"\n",
    "Mapping the present-tense verbs to past tense using\n",
    "high-D vector arithmetic/algebra (rather than a neural\n",
    "net) will take some experimenting because the simplest\n",
    "idea is sure to fail.  First we make a Word Vector for\n",
    "each basic verb and each past verb.  Word vectors are\n",
    "hypervectors, and they are encoded as a sum of their\n",
    "trigrams.  Thus a word vector is just like a language\n",
    "vector of yore, with a word of L letters + two spaces\n",
    "yielding L trigrams.\n",
    "\n",
    "Now here is the simple idea (the one that will fail in\n",
    "the end): form a mapping vector from a present-tense\n",
    "verb to a past-tense verb by multiplying the two word\n",
    "vectors.  This same mapping vector will turn the\n",
    "past-tense verb to the present-tense verb.  These\n",
    "mappings are not exact because the word vectors are\n",
    "not binary +1s and -1s.\n",
    "\n",
    "The next step is to add all the present-tense word\n",
    "vectors into a single vector, call it the Present\n",
    "Vector, and all the past-tense word vectors into a\n",
    "single Past Vector, and then multiply the two.  That\n",
    "will be the master mapping vector with which to start\n",
    "experimenting (and it is the one that will have\n",
    "problems).\n",
    "\"\"\"\n",
    "pasts = np.zeros((len(past), N))\n",
    "presents = np.zeros((len(past), N))\n",
    "mapping_vecs = np.zeros((len(past), N))\n",
    "\n",
    "RI2 = 2 * ( np.random.randn(len(alphabet),N) < 0) - 1\n",
    "\n",
    "for i in range(len(past)):\n",
    "    pasts[i] = wv(past[i], alphabet, RI_letters, cluster_size, N, ordered) \n",
    "    presents[i] = wv(present[i], alphabet, RI2, cluster_size, N, ordered)\n",
    "    pasts[i] = pasts[i] / (len(past[i]))\n",
    "    presents[i] = presents[i] / (len(present[i]))\n",
    "    \n",
    "    mapping_vecs[i] = vm.mapping_vec(presents[i], pasts[i])\n",
    "\n",
    "bindings = pasts*presents \n",
    "\n",
    "M = 100\n",
    "master = np.sum(bindings[:M,:],axis=0)"
   ]
  },
  {
   "cell_type": "code",
   "execution_count": 57,
   "metadata": {
    "collapsed": false
   },
   "outputs": [
    {
     "data": {
      "text/plain": [
       "(1000, 10000)"
      ]
     },
     "execution_count": 57,
     "metadata": {},
     "output_type": "execute_result"
    }
   ],
   "source": [
    "# plt.plot(past_vec.T)\n",
    "pasts.shape"
   ]
  },
  {
   "cell_type": "code",
   "execution_count": 58,
   "metadata": {
    "collapsed": false
   },
   "outputs": [
    {
     "data": {
      "text/plain": [
       "[<matplotlib.lines.Line2D at 0x15eb27a50>]"
      ]
     },
     "execution_count": 58,
     "metadata": {},
     "output_type": "execute_result"
    },
    {
     "data": {
      "image/png": "[encoded data removed]",
      "text/plain": [
       "<matplotlib.figure.Figure at 0x15e7f2b10>"
      ]
     },
     "metadata": {},
     "output_type": "display_data"
    }
   ],
   "source": [
    "plt.plot(presents[i][:200])\n",
    "plt.plot(pasts[i][:200])\n",
    "plt.plot(pasts[i][:200]*presents[i][:200])\n",
    "plt.plot(master[:200])"
   ]
  },
  {
   "cell_type": "code",
   "execution_count": null,
   "metadata": {
    "collapsed": true
   },
   "outputs": [],
   "source": []
  },
  {
   "cell_type": "code",
   "execution_count": 59,
   "metadata": {
    "collapsed": false
   },
   "outputs": [
    {
     "name": "stdout",
     "output_type": "stream",
     "text": [
      "('similarity', 0.10000000000000001)\n",
      "present, past, pastHat, similarity\n",
      "('wist', 'wisted', 273.83014727987154)\n",
      "('soberiz', 'soberized', 164.2084715963567)\n",
      "('revegetat', 'revegetated', 111.18960384040597)\n",
      "('finess', 'finessed', 187.26334759501123)\n",
      "('impersonaliz', 'impersonalized', 57.33657293725571)\n",
      "('cuss', 'cussed', 250.83079291691431)\n",
      "('overag', 'overaged', 196.09212744975611)\n",
      "('retailor', 'retailored', 113.55191164227926)\n",
      "('barrag', 'barraged', 162.21292225442045)\n",
      "('clott', 'clotted', 178.15055799475965)\n",
      "('nonlead', 'nonleaded', 141.45672814580377)\n",
      "('disclaim', 'disclaimed', 117.53965709637586)\n",
      "('knarr', 'knarred', 211.24762407993501)\n",
      "('sparkplugg', 'sparkplugged', 72.543189764347844)\n",
      "('demount', 'demounted', 211.64472527161601)\n",
      "('croon', 'crooned', 185.34238389994692)\n",
      "('mutini', 'mutinied', 170.77509157679197)\n",
      "('pigg', 'pigged', 250.85366191542661)\n",
      "('attract', 'attracted', 111.66169560028104)\n",
      "('flench', 'flenched', 139.11514351321335)\n",
      "('institutionalis', 'institutionalised', 31.871398516260111)\n",
      "('unanswer', 'unanswered', 109.77953388319199)\n",
      "('monograph', 'monographed', 99.630425577261576)\n",
      "('unmew', 'unmewed', 238.73152290753131)\n",
      "('clank', 'clanked', 224.89341206412638)\n",
      "('can', 'caned', 314.55527366968545)\n",
      "('demot', 'demoted', 285.89684876281518)\n",
      "('devel', 'develed', 237.89679078624462)\n",
      "('defilad', 'defiladed', 145.11388246570314)\n",
      "('discas', 'discased', 166.12540855964571)\n",
      "('wrack', 'wracked', 174.35161446863131)\n",
      "('empanell', 'empanelled', 92.114926753189593)\n",
      "('swiv', 'swived', 267.97599988179024)\n",
      "('unend', 'unended', 242.06479316668396)\n",
      "('engird', 'engirded', 201.00619777485585)\n",
      "('photodissociat', 'photodissociated', 30.720441782482229)\n",
      "('malfunction', 'malfunctioned', 68.776259488260735)\n",
      "('stabb', 'stabbed', 221.7432933546379)\n",
      "('uncoordinat', 'uncoordinated', 73.240380083603029)\n",
      "('hord', 'horded', 264.809442596483)\n",
      "('differentiat', 'differentiated', 68.005108430804341)\n",
      "('beslim', 'beslimed', 140.37984827162217)\n",
      "('reformatt', 'reformatted', 101.53806993330164)\n",
      "('fritt', 'fritted', 186.00801140036432)\n",
      "('streel', 'streeled', 173.07233459623166)\n",
      "('concav', 'concaved', 184.47434359281786)\n",
      "('broil', 'broiled', 174.37000898727791)\n",
      "('misgovern', 'misgoverned', 107.95477187201786)\n",
      "('persist', 'persisted', 147.36135065007613)\n",
      "('waver', 'wavered', 212.1221086896297)\n",
      "('knoll', 'knolled', 198.12195199758224)\n",
      "('acylat', 'acylated', 124.14836287248974)\n",
      "('fester', 'festered', 171.91282413290688)\n",
      "('comment', 'commented', 134.60165205942513)\n",
      "('begird', 'begirded', 204.88580889936588)\n",
      "('theatricaliz', 'theatricalized', 71.040395352488304)\n",
      "('dayb', 'daybed', 273.96118213893948)\n",
      "('stereograph', 'stereographed', 113.32240944415975)\n",
      "('increment', 'incremented', 118.79722780190693)\n",
      "('detick', 'deticked', 182.17405376996373)\n",
      "('eclips', 'eclipsed', 164.3233504818983)\n",
      "('transmogrifi', 'transmogrified', 58.892614423391734)\n",
      "('gormandiz', 'gormandized', 73.382506560581419)\n",
      "('chart', 'charted', 191.66047827056229)\n",
      "('stringhalt', 'stringhalted', 65.967108629388065)\n",
      "('sail', 'sailed', 334.82390260882914)\n",
      "('scrap', 'scraped', 214.1075253411388)\n",
      "('snuggl', 'snuggled', 164.73396902321537)\n",
      "('mill', 'milled', 282.33290814917655)\n",
      "('humbugg', 'humbugged', 121.03781001652146)\n",
      "('dangl', 'dangled', 208.55151367773217)\n",
      "('unlist', 'unlisted', 214.1633980330671)\n",
      "('deferr', 'deferred', 215.11542720793639)\n",
      "('contribut', 'contributed', 118.92963818877368)\n",
      "('reharden', 'rehardened', 109.01178282807875)\n",
      "('leav', 'leaved', 254.5320305239423)\n",
      "('dimeriz', 'dimerized', 151.91739762986259)\n",
      "('localiz', 'localized', 138.87396831045288)\n",
      "('negat', 'negated', 188.30744741719531)\n",
      "('paw', 'pawed', 336.67571200041789)\n",
      "('noncomputeriz', 'noncomputerized', 65.807293247225374)\n",
      "('superabound', 'superabounded', 59.315363158483279)\n",
      "('raven', 'ravened', 233.05521403899556)\n",
      "('misjudg', 'misjudged', 140.71383450557119)\n",
      "('quieten', 'quietened', 112.67482956145417)\n",
      "('noncertificat', 'noncertificated', 45.050013868317038)\n",
      "('dumbfounder', 'dumbfoundered', 47.182774452797091)\n",
      "('outpric', 'outpriced', 146.81637797569169)\n",
      "('coy', 'coyed', 378.30142081230315)\n",
      "('fissur', 'fissured', 186.20982839838541)\n",
      "('report', 'reported', 159.72863605961032)\n",
      "('lawyer', 'lawyered', 153.87416080821413)\n",
      "('auction', 'auctioned', 145.15331345695489)\n",
      "('fink', 'finked', 318.866426754754)\n",
      "('affiliat', 'affiliated', 102.43779829035344)\n",
      "('outpray', 'outprayed', 165.82839843526114)\n",
      "('splint', 'splinted', 184.16458346766251)\n",
      "('natur', 'natured', 207.00998393763103)\n",
      "('unblock', 'unblocked', 124.09614048934776)\n",
      "('misregister', 'misregistered', 97.844809766539527)\n"
     ]
    }
   ],
   "source": [
    "\"\"\"\n",
    "Test number 1: see if the word vector for a\n",
    "present-tense verb, when multiplied by the master\n",
    "mapping vector, produces anything like the word vector\n",
    "for the same word in the past tense.  Sometimes it\n",
    "works and sometimes it fails.  We can then start\n",
    "looking at when and how it fails, and try to fix the\n",
    "problem.  There are lots of tricks in our bag to fix\n",
    "it with!\n",
    "\"\"\"\n",
    "# need to normalize the dot products\n",
    "dot_prods = np.zeros(len(past))\n",
    "for i in range(M):\n",
    "    pastHat = presents[i]*master\n",
    "    dot_prods[i] = pasts[i].dot(pastHat)\n",
    "dot_prods = dot_prods\n",
    "similarities = np.where(dot_prods>0, 1, 0)\n",
    "similarity = np.sum(similarities)/float(len(past))\n",
    "print (\"similarity\", similarity)\n",
    "print \"present, past, pastHat, similarity\"\n",
    "for i in range(M):\n",
    "    print (present[i], past[i], dot_prods[i])"
   ]
  },
  {
   "cell_type": "code",
   "execution_count": null,
   "metadata": {
    "collapsed": true
   },
   "outputs": [],
   "source": []
  },
  {
   "cell_type": "code",
   "execution_count": null,
   "metadata": {
    "collapsed": true
   },
   "outputs": [],
   "source": []
  }
 ],
 "metadata": {
  "kernelspec": {
   "display_name": "Python 2",
   "language": "python",
   "name": "python2"
  },
  "language_info": {
   "codemirror_mode": {
    "name": "ipython",
    "version": 2
   },
   "file_extension": ".py",
   "mimetype": "text/x-python",
   "name": "python",
   "nbconvert_exporter": "python",
   "pygments_lexer": "ipython2",
   "version": "2.7.11"
  }
 },
 "nbformat": 4,
 "nbformat_minor": 0
}
