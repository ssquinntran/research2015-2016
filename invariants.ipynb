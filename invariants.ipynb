{
 "cells": [
  {
   "cell_type": "code",
   "execution_count": null,
   "metadata": {
    "collapsed": true
   },
   "outputs": [],
   "source": [
    "from pylab import *\n",
    "from numpy import *\n",
    "import mnist_numpy\n",
    "\n",
    "images, labels = mnist_numpy.load_mnist('training', digits=[0,1,2,3,4,5,6,7,8,9],path=\"data/\")\n",
    "# images is (60000, 28, 28)\n",
    "# to get images in 1,0's...\n",
    "# for i in range(0,len(images)):\n",
    "#     images[i] /= 255.0\n",
    "# imshow(images.mean(axis=0), cmap=cm.gray)\n",
    "# imshow(images[1], cmap=cm.gray)\n",
    "# show()\n",
    "\n",
    "# isn't this the average tho?\n",
    "# but we include mapping huehue\n",
    "invariants = zeros((10,28,28))\n",
    "# stores the indices for the actual images\n",
    "reference_images = {0:[],1:[],2:[],3:[],4:[],5:[],6:[],7:[],8:[],9:[]}\n",
    "for i in range(0,len(images)):\n",
    "    invariants[labels[i]] += images[i]\n",
    "    reference_images[labels[i]].append(i)\n",
    "\n",
    "imshow(invariants[2], cmap=cm.gray)\n",
    "show()"
   ]
  },
  {
   "cell_type": "code",
   "execution_count": null,
   "metadata": {
    "collapsed": true
   },
   "outputs": [],
   "source": [
    "invariants_with_transformations = zeros((10,28,28))\n",
    "translation_pixels = [3, 6, 10, 15, 20]\n",
    "rotation_degrees = [6, 15, 30, 45, 60, 90]\n"
   ]
  }
 ],
 "metadata": {
  "kernelspec": {
   "display_name": "Python 2",
   "language": "python",
   "name": "python2"
  },
  "language_info": {
   "codemirror_mode": {
    "name": "ipython",
    "version": 2
   },
   "file_extension": ".py",
   "mimetype": "text/x-python",
   "name": "python",
   "nbconvert_exporter": "python",
   "pygments_lexer": "ipython2",
   "version": "2.7.11"
  }
 },
 "nbformat": 4,
 "nbformat_minor": 0
}
